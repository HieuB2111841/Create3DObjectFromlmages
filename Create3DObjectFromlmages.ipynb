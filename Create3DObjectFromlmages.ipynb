{
  "nbformat": 4,
  "nbformat_minor": 0,
  "metadata": {
    "colab": {
      "provenance": []
    },
    "kernelspec": {
      "name": "python3",
      "display_name": "Python 3"
    },
    "language_info": {
      "name": "python"
    }
  },
  "cells": [
    {
      "cell_type": "code",
      "execution_count": null,
      "metadata": {
        "id": "cSR1PmjB_MZE"
      },
      "outputs": [],
      "source": [
        "# Clone repo TripoSR\n",
        "!git clone https://github.com/pyimagesearch/TripoSR.git\n",
        "\n",
        "# Import requirements libraries\n",
        "!pip install -r TripoSR/requirements.txt -q\n",
        "!pip install --upgrade Pillow onnxruntime"
      ]
    },
    {
      "cell_type": "code",
      "source": [
        "# Python path config\n",
        "import sys\n",
        "sys.path.append('/content/TripoSR')"
      ],
      "metadata": {
        "id": "4mWNDW6GQlzT"
      },
      "execution_count": null,
      "outputs": []
    },
    {
      "cell_type": "code",
      "source": [
        "# Imports\n",
        "import os\n",
        "import time\n",
        "import torch\n",
        "import numpy as np\n",
        "from PIL import Image\n",
        "from IPython.display import Video\n",
        "import pymeshlab as pymesh\n",
        "import rembg\n",
        "from google.colab import files\n",
        "\n",
        "from tsr.system import TSR\n",
        "import tsr.utils as utils"
      ],
      "metadata": {
        "id": "ogs0INgs_ps5"
      },
      "execution_count": null,
      "outputs": []
    },
    {
      "cell_type": "code",
      "source": [
        "# Parameters config\n",
        "device = \"cuda\" if torch.cuda.is_available() else \"cpu\"\n",
        "print(f\"Device: {device}\")\n",
        "\n",
        "foreground_ratio = 0.85\n",
        "chunk_size = 8192\n",
        "do_render = True\n",
        "model_format = \"obj\"\n",
        "n_views = 30\n",
        "output_root = \"output\"\n",
        "os.makedirs(output_root, exist_ok=True)\n",
        "pretrained_model_name = \"stabilityai/TripoSR\""
      ],
      "metadata": {
        "id": "tvTjOHFt_4Cb"
      },
      "execution_count": null,
      "outputs": []
    },
    {
      "cell_type": "code",
      "source": [
        "# Timer class\n",
        "class Timer:\n",
        "    def __init__(self):\n",
        "        self.times = {}\n",
        "        self.unit = \"ms\"\n",
        "        self.scale = 1000.0\n",
        "\n",
        "    def start(self, name):\n",
        "        if torch.cuda.is_available(): torch.cuda.synchronize()\n",
        "        self.times[name] = time.time()\n",
        "        print(f\"Start: {name}\")\n",
        "\n",
        "    def end(self, name):\n",
        "        if name not in self.times: return\n",
        "        if torch.cuda.is_available(): torch.cuda.synchronize()\n",
        "        elapsed = (time.time() - self.times.pop(name)) * self.scale\n",
        "        print(f\"Finish: {name}. Duration: {elapsed:.2f}{self.unit}\")\n",
        "\n",
        "timer = Timer()"
      ],
      "metadata": {
        "id": "_AgWtOov_rkP"
      },
      "execution_count": null,
      "outputs": []
    },
    {
      "cell_type": "code",
      "source": [
        "# Functions\n",
        "def prepare_image(original_image, foreground_ratio=0.85):\n",
        "    rembg_session = rembg.new_session()\n",
        "    image = utils.remove_background(original_image, rembg_session)\n",
        "    image = utils.resize_foreground(image, foreground_ratio)\n",
        "\n",
        "    if image.mode == \"RGBA\":\n",
        "        image = np.array(image).astype(np.float32) / 255.0\n",
        "        image = image[:, :, :3] * image[:, :, 3:4] + (1 - image[:, :, 3:4]) * 0.5\n",
        "        image = Image.fromarray((image * 255).astype(np.uint8))\n",
        "    return image\n",
        "\n",
        "def run_model_on_image(model, image):\n",
        "    with torch.no_grad():\n",
        "        return model([image], device=device)\n",
        "\n",
        "def render_views(scene_codes, model, out_dir, n_views=30):\n",
        "    render_images = model.render(scene_codes, n_views=n_views + 1, return_type=\"pil\")\n",
        "\n",
        "    for i, img in enumerate(render_images[0]):\n",
        "        img.save(os.path.join(out_dir, f\"render_{i:03d}.png\"))\n",
        "\n",
        "    utils.save_video(render_images[0][:n_views], os.path.join(out_dir, \"render.mp4\"), fps=30)\n",
        "\n",
        "def export_mesh(scene_codes, model, out_dir, model_format=\"obj\"):\n",
        "    meshes = model.extract_mesh(scene_codes, has_vertex_color=False)\n",
        "    obj_path = os.path.join(out_dir, f\"mesh.{model_format}\")\n",
        "    meshes[0].export(obj_path)\n",
        "    return obj_path\n",
        "\n",
        "def convert_obj_to_stl(obj_path, stl_path):\n",
        "    mesh_set = pymesh.MeshSet()\n",
        "    mesh_set.load_new_mesh(obj_path)\n",
        "    mesh_set.save_current_mesh(stl_path)\n"
      ],
      "metadata": {
        "id": "Ndh6wxilDJvy"
      },
      "execution_count": null,
      "outputs": []
    },
    {
      "cell_type": "code",
      "source": [
        "# Initiate TripoSR model\n",
        "timer.start(\"Load TripoSR model\")\n",
        "model = TSR.from_pretrained(\n",
        "    pretrained_model_name,\n",
        "    config_name=\"config.yaml\",\n",
        "    weight_name=\"model.ckpt\"\n",
        ")\n",
        "model.renderer.set_chunk_size(chunk_size)\n",
        "model.to(device)\n",
        "timer.end(\"Load TripoSR model\")"
      ],
      "metadata": {
        "id": "l0n8mq_o_6Az"
      },
      "execution_count": null,
      "outputs": []
    },
    {
      "cell_type": "code",
      "source": [
        "# Upload images\n",
        "uploaded = files.upload()\n",
        "image_list = [(name, Image.open(name).convert(\"RGBA\")) for name in uploaded.keys()]"
      ],
      "metadata": {
        "id": "IjOlIHroEBu9"
      },
      "execution_count": null,
      "outputs": []
    },
    {
      "cell_type": "code",
      "source": [
        "# Process images\n",
        "for idx, (filename, original_image) in enumerate(image_list):\n",
        "    print(f\"\\nProcessing Image: {filename}\")\n",
        "    output_dir = os.path.join(output_root, str(filename))\n",
        "    os.makedirs(output_dir, exist_ok=True)\n",
        "\n",
        "    timer.start(\"Process input image\")\n",
        "    image = prepare_image(original_image)\n",
        "    image.save(os.path.join(output_dir, f\"{filename}_input.png\"))\n",
        "    timer.end(\"Process input image\")\n",
        "\n",
        "    timer.start(\"Generate 3D model\")\n",
        "    scene_codes = run_model_on_image(model, image)\n",
        "    timer.end(\"Generate 3D model\")\n",
        "\n",
        "    if do_render:\n",
        "        timer.start(\"Render video\")\n",
        "        render_views(scene_codes, model, output_dir, n_views=n_views)\n",
        "        timer.end(\"Render video\")\n",
        "\n",
        "    timer.start(\"Save .obj and convert to .stl\")\n",
        "    obj_path = export_mesh(scene_codes, model, output_dir, model_format=model_format)\n",
        "    convert_obj_to_stl(obj_path, os.path.join(output_dir, f\"{filename}_model.stl\"))\n",
        "    timer.end(\"Save .obj and convert to .stl\")\n",
        "\n",
        "print(\"Process Completely!\")"
      ],
      "metadata": {
        "id": "mmV6oLZCDYym"
      },
      "execution_count": null,
      "outputs": []
    },
    {
      "cell_type": "code",
      "source": [
        "# Video('output/0/render.mp4', embed=True)"
      ],
      "metadata": {
        "id": "fP7eNdj5mcRu"
      },
      "execution_count": null,
      "outputs": []
    }
  ]
}